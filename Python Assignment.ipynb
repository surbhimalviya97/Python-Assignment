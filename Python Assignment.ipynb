{
 "cells": [
  {
   "cell_type": "code",
   "execution_count": 1,
   "id": "b62ced12",
   "metadata": {},
   "outputs": [
    {
     "name": "stdout",
     "output_type": "stream",
     "text": [
      "Enter a number: 4\n",
      "4 is Even\n"
     ]
    }
   ],
   "source": [
    "#Python program to check whether the given number is even or not.\n",
    "num = int(input(\"Enter a number: \"))\n",
    "if (num % 2) == 0:\n",
    "   print(\"{0} is Even\".format(num))\n",
    "else:\n",
    "   print(\"{0} is Odd\".format(num))"
   ]
  },
  {
   "cell_type": "code",
   "execution_count": 2,
   "id": "280820eb",
   "metadata": {},
   "outputs": [
    {
     "name": "stdout",
     "output_type": "stream",
     "text": [
      "37.5 degree Celsius is equal to 99.5 degree Fahrenheit\n"
     ]
    }
   ],
   "source": [
    "#2.\tPython program to convert the temperature in degree centigrade to Fahrenheit\n",
    "# change this value for a different result\n",
    "celsius = 37.5\n",
    "\n",
    "# calculate fahrenheit\n",
    "fahrenheit = (celsius * 1.8) + 32\n",
    "print('%0.1f degree Celsius is equal to %0.1f degree Fahrenheit' %(celsius,fahrenheit))"
   ]
  },
  {
   "cell_type": "code",
   "execution_count": 3,
   "id": "a0dd0aff",
   "metadata": {},
   "outputs": [
    {
     "name": "stdout",
     "output_type": "stream",
     "text": [
      "The area of the triangle is 14.70\n"
     ]
    }
   ],
   "source": [
    "# Python Program to find the area of triangle\n",
    "\n",
    "a = 5\n",
    "b = 6\n",
    "c = 7\n",
    "\n",
    "# calculate the semi-perimeter\n",
    "s = (a + b + c) / 2\n",
    "\n",
    "# calculate the area\n",
    "area = (s*(s-a)*(s-b)*(s-c)) ** 0.5\n",
    "print('The area of the triangle is %0.2f' %area)"
   ]
  },
  {
   "cell_type": "code",
   "execution_count": 1,
   "id": "aa44bfb3",
   "metadata": {},
   "outputs": [
    {
     "name": "stdout",
     "output_type": "stream",
     "text": [
      "Enter the total number you want to enter:3\n",
      "Enter the number:4\n",
      "Enter the number:4\n",
      "Enter the number:4\n",
      "Average= 4.0\n"
     ]
    }
   ],
   "source": [
    "#4.\tPython program to find out the average of a set of integers\n",
    "n = int(input(\"Enter the total number you want to enter:\"))\n",
    "\n",
    "sum = 0\n",
    "\n",
    "for i in range(n):\n",
    "    x = int(input(\"Enter the number:\"))\n",
    "    sum = sum + x\n",
    "\n",
    "avg = sum / n\n",
    "\n",
    "print(\"Average=\", avg)"
   ]
  },
  {
   "cell_type": "code",
   "execution_count": 3,
   "id": "a57bb9c4",
   "metadata": {},
   "outputs": [
    {
     "name": "stdout",
     "output_type": "stream",
     "text": [
      "Enter the number of real numbers: 4\n",
      "Enter a real number: 4\n",
      "Enter a real number: 4\n",
      "Enter a real number: 4\n",
      "Enter a real number: 4\n",
      "The product of the numbers is:  256.0\n"
     ]
    }
   ],
   "source": [
    "#5.\tPython program to find the product of a set of real numbers\n",
    "i = 0\n",
    "\n",
    "product = 1\n",
    "\n",
    "count = int(input(\"Enter the number of real numbers: \"))\n",
    "\n",
    "for i in range(count):\n",
    "\n",
    "   x = float(input(\"Enter a real number: \"))\n",
    "\n",
    "   product = product * x\n",
    "\n",
    "print(\"The product of the numbers is: \", product)"
   ]
  },
  {
   "cell_type": "code",
   "execution_count": 4,
   "id": "37f4e3ad",
   "metadata": {},
   "outputs": [
    {
     "name": "stdout",
     "output_type": "stream",
     "text": [
      " \n",
      "Diameter Of a Circle = 13530.00\n",
      " Circumference Of a Circle = 42484.20\n",
      " Area Of a Circle = 143702806.50\n"
     ]
    }
   ],
   "source": [
    "#6.\tpython program to find the circumference and area of a circle with a given radius\n",
    "PI = 3.14\n",
    "radius = 6765\n",
    "\n",
    "\n",
    "diameter = 2 * radius\n",
    "circumference = 2 * PI * radius\n",
    "area = PI * radius * radius\n",
    "\n",
    "print(\" \\nDiameter Of a Circle = %.2f\" %diameter)\n",
    "print(\" Circumference Of a Circle = %.2f\" %circumference)\n",
    "print(\" Area Of a Circle = %.2f\" %area)"
   ]
  },
  {
   "cell_type": "code",
   "execution_count": 6,
   "id": "475261e8",
   "metadata": {},
   "outputs": [
    {
     "name": "stdout",
     "output_type": "stream",
     "text": [
      "Not Multiple of 5\n"
     ]
    }
   ],
   "source": [
    "#7.\tPython program to check whether the given integer is a multiple of 5\n",
    "n= 66\n",
    "\n",
    "if n%5==0:\n",
    "    print('Multiple of 5')\n",
    "else:\n",
    "    print('Not Multiple of 5')"
   ]
  },
  {
   "cell_type": "code",
   "execution_count": 7,
   "id": "0c1c77c6",
   "metadata": {},
   "outputs": [
    {
     "name": "stdout",
     "output_type": "stream",
     "text": [
      "2654 is not multiple of 5 and 7\n"
     ]
    }
   ],
   "source": [
    "#8.\tPython program to check whether the given integer is a multiple of both 5 and 7\n",
    "n=2654\n",
    "if n%5==0:                                    \n",
    "    \n",
    "    if n%7==0:                                \n",
    "        print(n,'is multiple of 5 and 7')      \n",
    "    else:\n",
    "        print(n,'is multiple of 5 but not 7')  \n",
    "else:\n",
    "    print(n,'is not multiple of 5 and 7')     "
   ]
  },
  {
   "cell_type": "code",
   "execution_count": 8,
   "id": "d66dd501",
   "metadata": {},
   "outputs": [
    {
     "name": "stdout",
     "output_type": "stream",
     "text": [
      "Enter the integer number: 78\n",
      "The reverse number is : 87\n"
     ]
    }
   ],
   "source": [
    "#9.\tPython program to display the given integer in a reverse manner\n",
    "number = int(input(\"Enter the integer number: \"))  \n",
    "  \n",
    "revs_number = 0  \n",
    "  \n",
    "while (number > 0):  \n",
    "    remainder = number % 10  \n",
    "    revs_number = (revs_number * 10) + remainder  \n",
    "    number = number // 10  \n",
    "  \n",
    "print(\"The reverse number is :\",revs_number) "
   ]
  },
  {
   "cell_type": "code",
   "execution_count": 9,
   "id": "685b0999",
   "metadata": {},
   "outputs": [
    {
     "name": "stdout",
     "output_type": "stream",
     "text": [
      "The original list is : [6, 7, 3, 9, 10, 15]\n",
      "The geometric mean of list is : 7.443617568993922\n"
     ]
    }
   ],
   "source": [
    "#Python program to find the geometric mean of n numbers\n",
    "import math \n",
    " \n",
    "# initialize list \n",
    "test_list = [6, 7, 3, 9, 10, 15] \n",
    " \n",
    "# printing original list \n",
    "print(\"The original list is : \" + str(test_list)) \n",
    " \n",
    "# Geometric Mean of List \n",
    "# using loop + formula \n",
    "temp = 1\n",
    "for i in range(0, len(test_list)) : \n",
    "    temp = temp * test_list[i] \n",
    "temp2 = (float)(math.pow(temp, (1 / len(test_list)))) \n",
    "res = (float)(temp2) \n",
    " \n",
    "# printing result \n",
    "print(\"The geometric mean of list is : \" + str(res)) "
   ]
  },
  {
   "cell_type": "code",
   "execution_count": 10,
   "id": "98684c9f",
   "metadata": {},
   "outputs": [
    {
     "name": "stdout",
     "output_type": "stream",
     "text": [
      "6\n"
     ]
    }
   ],
   "source": [
    "#Python program to find the sum of the digits of an integer using a while loop\n",
    "n= 123\n",
    "sum = 0\n",
    "while n > 0:\n",
    "    sum += n % 10\n",
    "    n //= 10\n",
    "print(sum)\n"
   ]
  },
  {
   "cell_type": "code",
   "execution_count": 11,
   "id": "7ca8d227",
   "metadata": {},
   "outputs": [
    {
     "name": "stdout",
     "output_type": "stream",
     "text": [
      "12\n",
      "15\n",
      "18\n",
      "21\n",
      "24\n",
      "27\n",
      "30\n",
      "33\n",
      "36\n",
      "39\n",
      "42\n",
      "45\n",
      "48\n"
     ]
    }
   ],
   "source": [
    "#Python program to display all the multiples of 3 within the range 10 to 50\n",
    "start_range = 10\n",
    "end_range = 50\n",
    "\n",
    "# Iterate through the range and check for multiples of 3\n",
    "for number in range(start_range, end_range + 1):\n",
    "    # Check if the number is a multiple of 3\n",
    "    if number % 3 == 0:\n",
    "        # Display the multiple of 3\n",
    "        print(number)"
   ]
  },
  {
   "cell_type": "code",
   "execution_count": 13,
   "id": "794b16ba",
   "metadata": {},
   "outputs": [
    {
     "name": "stdout",
     "output_type": "stream",
     "text": [
      "All Integers Within The Range 100-200 Whose Sum Of Digits Is An Even Number is = ['101', '103', '105', '107', '109', '110', '112', '114', '116', '118', '121', '123', '125', '127', '129', '130', '132', '134', '136', '138', '141', '143', '145', '147', '149', '150', '152', '154', '156', '158', '161', '163', '165', '167', '169', '170', '172', '174', '176', '178', '181', '183', '185', '187', '189', '190', '192', '194', '196', '198', '200']\n"
     ]
    }
   ],
   "source": [
    "#Python program to display all integers within the range 100-200 whose sum of digits is an even number\n",
    "list=[]                   \n",
    "for i in range(100,201):  \n",
    "    i=str(i)              \n",
    "    sum=0                 \n",
    "    for j in i:        \n",
    "        j=int(j)        \n",
    "        sum=sum+j         \n",
    "    if sum%2==0:          \n",
    "        list.append(i)    \n",
    "print('All Integers Within The Range 100-200 Whose Sum Of Digits Is An Even Number is =',list)"
   ]
  },
  {
   "cell_type": "code",
   "execution_count": 14,
   "id": "16756765",
   "metadata": {},
   "outputs": [
    {
     "name": "stdout",
     "output_type": "stream",
     "text": [
      "Enter an integer: 8\n",
      "8 is not a prime number.\n"
     ]
    }
   ],
   "source": [
    "#. Python program to check whether the given integer is a prime number or not\n",
    "def is_prime(num):\n",
    "    # 0 and 1 are not prime numbers\n",
    "    if num < 2:\n",
    "        return False\n",
    "    # Check for factors up to the square root of the number\n",
    "    for i in range(2, int(num**0.5) + 1):\n",
    "        if num % i == 0:\n",
    "            return False  # If a factor is found, the number is not prime\n",
    "    return True  # If no factors are found, the number is prime\n",
    "\n",
    "# Input: Get an integer from the user\n",
    "num = int(input(\"Enter an integer: \"))\n",
    "\n",
    "# Check if the entered number is prime\n",
    "if is_prime(num):\n",
    "    print(f\"{num} is a prime number.\")\n",
    "else:\n",
    "    print(f\"{num} is not a prime number.\")"
   ]
  },
  {
   "cell_type": "code",
   "execution_count": 15,
   "id": "6d032333",
   "metadata": {},
   "outputs": [
    {
     "name": "stdout",
     "output_type": "stream",
     "text": [
      "Enter the value of N: 8\n",
      "Prime numbers from 1 to 8:\n",
      "2\n",
      "3\n",
      "5\n",
      "7\n"
     ]
    }
   ],
   "source": [
    "# Python program to generate prime numbers from 1 to N\n",
    "\n",
    "# Function to check if a number is prime\n",
    "def is_prime(num):\n",
    "    # 0 and 1 are not prime numbers\n",
    "    if num < 2:\n",
    "        return False\n",
    "    # Check for factors up to the square root of the number\n",
    "    for i in range(2, int(num**0.5) + 1):\n",
    "        if num % i == 0:\n",
    "            return False  # If a factor is found, the number is not prime\n",
    "    return True  # If no factors are found, the number is prime\n",
    "\n",
    "# Input: Get an integer N from the user\n",
    "N = int(input(\"Enter the value of N: \"))\n",
    "\n",
    "# Generate and display prime numbers from 1 to N\n",
    "print(f\"Prime numbers from 1 to {N}:\")\n",
    "for num in range(2, N + 1):\n",
    "    if is_prime(num):\n",
    "        print(num)\n"
   ]
  },
  {
   "cell_type": "code",
   "execution_count": 16,
   "id": "fed620a4",
   "metadata": {},
   "outputs": [
    {
     "name": "stdout",
     "output_type": "stream",
     "text": [
      "Enter the coefficient a: 8\n",
      "Enter the coefficient b: 9\n",
      "Enter the coefficient c: 9\n",
      "The roots of the quadratic equation 8.0x^2 + 9.0x + 9.0 = 0 are:\n",
      "Root 1: (-0.5625+0.899218410621135j)\n",
      "Root 2: (-0.5625-0.899218410621135j)\n"
     ]
    }
   ],
   "source": [
    "import cmath\n",
    "\n",
    "# Function to find the roots of a quadratic equation\n",
    "def find_roots(a, b, c):\n",
    "    # Calculate the discriminant\n",
    "    discriminant = cmath.sqrt(b**2 - 4*a*c)\n",
    "\n",
    "    # Calculate the two roots using the quadratic formula\n",
    "    root1 = (-b + discriminant) / (2*a)\n",
    "    root2 = (-b - discriminant) / (2*a)\n",
    "\n",
    "    return root1, root2\n",
    "\n",
    "# Input: Get coefficients a, b, and c from the user\n",
    "a = float(input(\"Enter the coefficient a: \"))\n",
    "b = float(input(\"Enter the coefficient b: \"))\n",
    "c = float(input(\"Enter the coefficient c: \"))\n",
    "\n",
    "# Calculate and display the roots\n",
    "roots = find_roots(a, b, c)\n",
    "\n",
    "print(f\"The roots of the quadratic equation {a}x^2 + {b}x + {c} = 0 are:\")\n",
    "print(f\"Root 1: {roots[0]}\")\n",
    "print(f\"Root 2: {roots[1]}\")\n"
   ]
  },
  {
   "cell_type": "code",
   "execution_count": 17,
   "id": "3a493849",
   "metadata": {},
   "outputs": [
    {
     "name": "stdout",
     "output_type": "stream",
     "text": [
      "Enter a number: 8\n",
      "8\n",
      "7\n",
      "6\n",
      "5\n",
      "4\n",
      "3\n",
      "2\n",
      "1\n",
      "0\n"
     ]
    }
   ],
   "source": [
    "# Python program to print numbers from n to 0 using recursion\n",
    "\n",
    "def print_numbers_down_to_zero(n):\n",
    "\n",
    "    if n < 0:\n",
    "        return\n",
    "\n",
    "    print(n)\n",
    "    \n",
    "    print_numbers_down_to_zero(n - 1)\n",
    "\n",
    "\n",
    "n = int(input(\"Enter a number: \"))\n",
    "\n",
    "\n",
    "print_numbers_down_to_zero(n)\n"
   ]
  },
  {
   "cell_type": "code",
   "execution_count": 19,
   "id": "14532e85",
   "metadata": {},
   "outputs": [
    {
     "name": "stdout",
     "output_type": "stream",
     "text": [
      "Enter a number: 7\n",
      "The factorial of 7 is: 5040\n"
     ]
    }
   ],
   "source": [
    "# Python program to find the factorial of a number using recursion\n",
    "\n",
    "def factorial(n):\n",
    "    # Base case: factorial of 0 is 1\n",
    "    if n == 0:\n",
    "        return 1\n",
    "    # Recursive case: n! = n * (n-1)!\n",
    "    else:\n",
    "        return n * factorial(n - 1)\n",
    "\n",
    "# Input: Get an integer n from the user\n",
    "n = int(input(\"Enter a number: \"))\n",
    "\n",
    "# Call the function to find the factorial and display the result\n",
    "result = factorial(n)\n",
    "print(f\"The factorial of {n} is: {result}\")\n"
   ]
  },
  {
   "cell_type": "code",
   "execution_count": null,
   "id": "ef9a4e79",
   "metadata": {},
   "outputs": [
    {
     "name": "stdout",
     "output_type": "stream",
     "text": [
      "Enter the value of n: 5\n",
      "Enter number 1: 5\n",
      "Enter number 2: 5\n"
     ]
    }
   ],
   "source": [
    "# Python program to display the sum of n numbers using a list without using a function\n",
    "\n",
    "\n",
    "n = int(input(\"Enter the value of n: \"))\n",
    "\n",
    "numbers = []\n",
    "for i in range(n):\n",
    "    num = int(input(f\"Enter number {i + 1}: \"))\n",
    "    numbers.append(num)\n",
    "print(numbers)\n",
    "\n",
    "print(sum(numbers))\n",
    "\n",
    "print(f\"The sum of the {n} numbers is: {total_sum}\")\n"
   ]
  },
  {
   "cell_type": "code",
   "execution_count": 5,
   "id": "1ecabf57",
   "metadata": {},
   "outputs": [
    {
     "name": "stdout",
     "output_type": "stream",
     "text": [
      "Enter a list of numbers separated by spaces: 1234\n",
      "Enter the number to search for: 7\n",
      "7 not found in the list.\n"
     ]
    }
   ],
   "source": [
    "# linear search\n",
    "\n",
    "def linear_search(arr, target):\n",
    "    for i in range(len(arr)):\n",
    "        if arr[i] == target:\n",
    "            return i \n",
    "    return -1  \n",
    "\n",
    "numbers = [int(x) for x in input(\"Enter a list of numbers separated by spaces: \").split()]\n",
    "\n",
    "target = int(input(\"Enter the number to search for: \"))\n",
    "\n",
    "\n",
    "result = linear_search(numbers, target)\n",
    "\n",
    "if result != -1:\n",
    "    print(f\"{target} found at index {result}.\")\n",
    "else:\n",
    "    print(f\"{target} not found in the list.\")\n"
   ]
  },
  {
   "cell_type": "code",
   "execution_count": 4,
   "id": "17035c46",
   "metadata": {},
   "outputs": [
    {
     "name": "stdout",
     "output_type": "stream",
     "text": [
      "enter the no.6\n",
      "not prime 6\n"
     ]
    }
   ],
   "source": [
    "n = int(input(\"enter the no.\"))\n",
    "flage = True\n",
    "for i in range(2, n):\n",
    "    if n%i == 0:\n",
    "        print(\"not prime\",n)\n",
    "        flage  = False\n",
    "        break\n",
    "    else:\n",
    "        continue\n",
    "if flage == True:   \n",
    "    print(\"prime\")\n",
    "        "
   ]
  },
  {
   "cell_type": "code",
   "execution_count": 6,
   "id": "e66e81e2",
   "metadata": {},
   "outputs": [
    {
     "name": "stdout",
     "output_type": "stream",
     "text": [
      "21 45 93 "
     ]
    }
   ],
   "source": [
    "#Python program to find the odd numbers in an array\n",
    "\n",
    "# list of numbers\n",
    "list1 = [10, 21, 4, 45, 66, 93]\n",
    "\n",
    "\n",
    "for num in list1:\n",
    "\n",
    "    if num % 2 != 0:\n",
    "        print(num, end=\" \")\n"
   ]
  },
  {
   "cell_type": "code",
   "execution_count": 3,
   "id": "638729d8",
   "metadata": {},
   "outputs": [
    {
     "name": "stdout",
     "output_type": "stream",
     "text": [
      "How many elements you want to enter? 4\n",
      "Enter 4 positive numbers\n",
      "2\n",
      "3\n",
      "4\n",
      "5\n",
      "The largest number in list is 5\n"
     ]
    }
   ],
   "source": [
    "#Python program to find the largest number in a list without using built-in functions\n",
    "mylist = []\n",
    "size = int(input('How many elements you want to enter? '))\n",
    "\n",
    "print('Enter',str(size),'positive numbers')\n",
    "\n",
    "for i in range(size):\n",
    "    data = int(input())\n",
    "    mylist.append(data)\n",
    "\n",
    "max = 0\n",
    "for data in mylist:\n",
    "    if data > max:\n",
    "        max = data\n",
    "\n",
    "print('The largest number in list is', max)"
   ]
  },
  {
   "cell_type": "code",
   "execution_count": 4,
   "id": "53cb8db3",
   "metadata": {},
   "outputs": [
    {
     "name": "stdout",
     "output_type": "stream",
     "text": [
      "List = ['Hello', 'TutorialsPoint', 20, 'python', 'code']\n",
      "The list after inserting the given list item at the specified index:\n",
      "List =  ['Hello', 'TutorialsPoint', 'sample', 20, 'python', 'code']\n"
     ]
    }
   ],
   "source": [
    "#Python program to insert a number to any position in a list\n",
    "lst = [\"Hello\", \"TutorialsPoint\", 20, \"python\", \"code\"]\n",
    "print(\"List =\",lst)\n",
    "\n",
    "\n",
    "insertItem = \"sample\"\n",
    "\n",
    "\n",
    "indexValue = 2\n",
    "\n",
    "# inserting the given list item at the specified index(here 2)\n",
    "lst.insert(indexValue, insertItem)\n",
    "print(\"The list after inserting the given list item at the specified index:\")\n",
    "print(\"List = \",lst)"
   ]
  },
  {
   "cell_type": "code",
   "execution_count": 5,
   "id": "7a5a327b",
   "metadata": {},
   "outputs": [
    {
     "name": "stdout",
     "output_type": "stream",
     "text": [
      "List after deleting specified list item: ['Welcome', 'to', 'tutorialspoint']\n"
     ]
    }
   ],
   "source": [
    "#Python program to delete an element from a list by index\n",
    "inputList = [\"Welcome\", \"to\", \"tutorialspoint\", \"python\"]\n",
    "\n",
    "\n",
    "givenIndex = 3\n",
    "\n",
    "\n",
    "del inputList[givenIndex]\n",
    "\n",
    "print(\"List after deleting specified list item:\", inputList)"
   ]
  },
  {
   "cell_type": "code",
   "execution_count": 6,
   "id": "a4288106",
   "metadata": {},
   "outputs": [
    {
     "name": "stdout",
     "output_type": "stream",
     "text": [
      "Yes\n"
     ]
    }
   ],
   "source": [
    "# function which return reverse of a string\n",
    "\n",
    "def isPalindrome(s):\n",
    "    return s == s[::-1]\n",
    "\n",
    "\n",
    "# Driver code\n",
    "s = \"malayalam\"\n",
    "ans = isPalindrome(s)\n",
    "\n",
    "if ans:\n",
    "    print(\"Yes\")\n",
    "else:\n",
    "    print(\"No\")\n"
   ]
  },
  {
   "cell_type": "code",
   "execution_count": 7,
   "id": "da30918d",
   "metadata": {},
   "outputs": [
    {
     "name": "stdout",
     "output_type": "stream",
     "text": [
      "[17, 15, 4]\n",
      "[10, 12, 9]\n",
      "[11, 13, 18]\n"
     ]
    }
   ],
   "source": [
    "#. Python program to implement matrix addition\n",
    "\n",
    "X = [[12,7,3],\n",
    "    [4 ,5,6],\n",
    "    [7 ,8,9]]\n",
    "\n",
    "Y = [[5,8,1],\n",
    "    [6,7,3],\n",
    "    [4,5,9]]\n",
    "\n",
    "result = [[0,0,0],\n",
    "         [0,0,0],\n",
    "         [0,0,0]]\n",
    "\n",
    "# iterate through rows\n",
    "for i in range(len(X)):\n",
    "   # iterate through columns\n",
    "   for j in range(len(X[0])):\n",
    "       result[i][j] = X[i][j] + Y[i][j]\n",
    "\n",
    "for r in result:\n",
    "   print(r)\n"
   ]
  },
  {
   "cell_type": "code",
   "execution_count": 8,
   "id": "904ce55e",
   "metadata": {},
   "outputs": [
    {
     "name": "stdout",
     "output_type": "stream",
     "text": [
      "[114, 160, 60, 27]\n",
      "[74, 97, 73, 14]\n",
      "[119, 157, 112, 23]\n"
     ]
    }
   ],
   "source": [
    "#Python program to implement matrix multiplication\n",
    "\n",
    "\n",
    "# 3x3 matrix\n",
    "X = [[12,7,3],\n",
    "    [4 ,5,6],\n",
    "    [7 ,8,9]]\n",
    "Y = [[5,8,1,2],\n",
    "    [6,7,3,0],\n",
    "    [4,5,9,1]]\n",
    "\n",
    "result = [[0,0,0,0],\n",
    "         [0,0,0,0],\n",
    "         [0,0,0,0]]\n",
    "\n",
    "\n",
    "for i in range(len(X)):\n",
    "   # iterate through columns of Y\n",
    "   for j in range(len(Y[0])):\n",
    "       # iterate through rows of Y\n",
    "       for k in range(len(Y)):\n",
    "           result[i][j] += X[i][k] * Y[k][j]\n",
    "\n",
    "for r in result:\n",
    "   print(r)\n"
   ]
  },
  {
   "cell_type": "code",
   "execution_count": 9,
   "id": "19f8bdce",
   "metadata": {},
   "outputs": [
    {
     "name": "stdout",
     "output_type": "stream",
     "text": [
      "2000 is a leap year\n"
     ]
    }
   ],
   "source": [
    "\n",
    "# Python program to check if year is a leap year or not\n",
    "\n",
    "year = 2000\n",
    "\n",
    "if (year % 400 == 0) and (year % 100 == 0):\n",
    "    print(\"{0} is a leap year\".format(year))\n",
    "\n",
    "elif (year % 4 ==0) and (year % 100 != 0):\n",
    "    print(\"{0} is a leap year\".format(year))\n",
    "\n",
    "else:\n",
    "    print(\"{0} is not a leap year\".format(year))"
   ]
  },
  {
   "cell_type": "code",
   "execution_count": 10,
   "id": "53c1715a",
   "metadata": {},
   "outputs": [
    {
     "name": "stdout",
     "output_type": "stream",
     "text": [
      "Which term of Fibonacci series? 9\n",
      "\n",
      "9th term of Fibonacci series is: 21\n"
     ]
    }
   ],
   "source": [
    "#Python program to find the Nth term in a Fibonacci series using recursion\n",
    "def fib(n):\n",
    "    if n==1:\n",
    "        return 0\n",
    "    elif n==2:\n",
    "        return 1\n",
    "    else:\n",
    "        return fib(n-1) + fib(n-2)\n",
    "\n",
    "\n",
    "term = int(input(\"Which term of Fibonacci series? \"))\n",
    "\n",
    "result = fib(term)\n",
    "print(\"\\n%dth term of Fibonacci series is: %d\" %(term, result))"
   ]
  },
  {
   "cell_type": "code",
   "execution_count": 11,
   "id": "00b53965",
   "metadata": {},
   "outputs": [
    {
     "name": "stdout",
     "output_type": "stream",
     "text": [
      "Enter the number of terms in the sequence: 8\n",
      "0 1 1 2 3 5 8 13 "
     ]
    }
   ],
   "source": [
    "#Python program to print Fibonacci series using iteration\n",
    "a = 0\n",
    "b = 1\n",
    "n=int(input(\"Enter the number of terms in the sequence: \"))\n",
    "print(a,b,end=\" \")\n",
    "while(n-2):\n",
    "    c=a+b\n",
    "    a,b = b,c\n",
    "    print(c,end=\" \")\n",
    "    n=n-1"
   ]
  },
  {
   "cell_type": "code",
   "execution_count": 13,
   "id": "82658ed5",
   "metadata": {},
   "outputs": [
    {
     "name": "stdout",
     "output_type": "stream",
     "text": [
      "Pride and Prejudice\n",
      "1813\n",
      "Jane Austen\n",
      "Elizabeth Bennet\n"
     ]
    }
   ],
   "source": [
    "#Python program to print all the items in a dictionary\n",
    "dictionary = {\n",
    "   'Novel': 'Pride and Prejudice',\n",
    "   'year': '1813',\n",
    "   'author': 'Jane Austen',\n",
    "   'character': 'Elizabeth Bennet'\n",
    "}\n",
    "\n",
    "\n",
    "for values in dictionary.values():\n",
    "   print(values)"
   ]
  },
  {
   "cell_type": "code",
   "execution_count": 14,
   "id": "edf4bed0",
   "metadata": {},
   "outputs": [
    {
     "name": "stdout",
     "output_type": "stream",
     "text": [
      "Select operation.\n",
      "1.Add\n",
      "2.Subtract\n",
      "3.Multiply\n",
      "4.Divide\n",
      "Enter choice(1/2/3/4): 1\n",
      "Enter first number: 3\n",
      "Enter second number: 4\n",
      "3.0 + 4.0 = 7.0\n",
      "Let's do next calculation? (yes/no): no\n"
     ]
    }
   ],
   "source": [
    "#Python program to implement a calculator to do basic operations\n",
    "# This function adds two numbers\n",
    "def add(x, y):\n",
    "    return x + y\n",
    "\n",
    "# This function subtracts two numbers\n",
    "def subtract(x, y):\n",
    "    return x - y\n",
    "\n",
    "# This function multiplies two numbers\n",
    "def multiply(x, y):\n",
    "    return x * y\n",
    "\n",
    "# This function divides two numbers\n",
    "def divide(x, y):\n",
    "    return x / y\n",
    "\n",
    "\n",
    "print(\"Select operation.\")\n",
    "print(\"1.Add\")\n",
    "print(\"2.Subtract\")\n",
    "print(\"3.Multiply\")\n",
    "print(\"4.Divide\")\n",
    "\n",
    "while True:\n",
    "    # take input from the user\n",
    "    choice = input(\"Enter choice(1/2/3/4): \")\n",
    "\n",
    "    # check if choice is one of the four options\n",
    "    if choice in ('1', '2', '3', '4'):\n",
    "        try:\n",
    "            num1 = float(input(\"Enter first number: \"))\n",
    "            num2 = float(input(\"Enter second number: \"))\n",
    "        except ValueError:\n",
    "            print(\"Invalid input. Please enter a number.\")\n",
    "            continue\n",
    "\n",
    "        if choice == '1':\n",
    "            print(num1, \"+\", num2, \"=\", add(num1, num2))\n",
    "\n",
    "        elif choice == '2':\n",
    "            print(num1, \"-\", num2, \"=\", subtract(num1, num2))\n",
    "\n",
    "        elif choice == '3':\n",
    "            print(num1, \"*\", num2, \"=\", multiply(num1, num2))\n",
    "\n",
    "        elif choice == '4':\n",
    "            print(num1, \"/\", num2, \"=\", divide(num1, num2))\n",
    "        \n",
    "        # check if user wants another calculation\n",
    "        # break the while loop if answer is no\n",
    "        next_calculation = input(\"Let's do next calculation? (yes/no): \")\n",
    "        if next_calculation == \"no\":\n",
    "            break\n",
    "    else:\n",
    "        print(\"Invalid Input\")"
   ]
  },
  {
   "cell_type": "code",
   "execution_count": null,
   "id": "14cca9b8",
   "metadata": {},
   "outputs": [],
   "source": []
  }
 ],
 "metadata": {
  "kernelspec": {
   "display_name": "Python 3 (ipykernel)",
   "language": "python",
   "name": "python3"
  },
  "language_info": {
   "codemirror_mode": {
    "name": "ipython",
    "version": 3
   },
   "file_extension": ".py",
   "mimetype": "text/x-python",
   "name": "python",
   "nbconvert_exporter": "python",
   "pygments_lexer": "ipython3",
   "version": "3.11.4"
  }
 },
 "nbformat": 4,
 "nbformat_minor": 5
}
